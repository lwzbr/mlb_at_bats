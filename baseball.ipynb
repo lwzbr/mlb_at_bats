{
 "cells": [
  {
   "cell_type": "code",
   "execution_count": 1,
   "metadata": {},
   "outputs": [],
   "source": [
    "import numpy as np\n",
    "import pandas as pd\n",
    "import pybaseball as pyb\n",
    "#from sklearn import model_selection\n",
    "from sklearn import linear_model\n",
    "#from sklearn import metrics\n",
    "import time\n",
    "\n",
    "pd.options.mode.chained_assignment = None  # default='warn'\n",
    "pyb.cache.enable()"
   ]
  },
  {
   "cell_type": "code",
   "execution_count": 2,
   "metadata": {},
   "outputs": [],
   "source": [
    "def classifyOutcome(series):\n",
    "    strikeEvents = np.array([\"foul_tip\", \"called_strike\", \"swinging_strike\", \"swinging_strike_blocked\", \"missed_bunt\"])\n",
    "    foulEvents = np.array([\"foul\", \"foul_bunt\"])\n",
    "    ballEvents = np.array([\"ball\", \"blocked_ball\"])\n",
    "    outEvents = np.array([\"force_out\",\"field_error\",\"field_out\",\"fielders_choice\",\"fielders_choice_out\",\"grounded_into_double_play\",\"double_play\",\"sac_fly\"])\n",
    "\n",
    "    events = series[\"events\"]\n",
    "    description = series[\"description\"]\n",
    "\n",
    "    if np.isin(description, strikeEvents):\n",
    "        return \"K\"\n",
    "    elif np.isin(description, ballEvents):\n",
    "        return \"B\"\n",
    "    elif np.isin(description, foulEvents):\n",
    "        return \"F\"\n",
    "    elif np.isin(events, outEvents):\n",
    "        return \"FO\"\n",
    "    elif events == \"hit_by_pitch\":\n",
    "        return \"HBP\"\n",
    "    elif events == \"single\":\n",
    "        return \"1B\"\n",
    "    elif events == \"double\":\n",
    "        return \"2B\"\n",
    "    # elif events == \"triple\":\n",
    "    #     return \"3B\"\n",
    "    elif events == \"home_run\":\n",
    "        return \"HR\"\n",
    "\n",
    "def processData(df):\n",
    "    df = df[[\"pitch_type\",\"events\",\"description\",\"release_speed\",\"release_spin_rate\",\"balls\",\"strikes\",\"pfx_x\",\"pfx_z\",\"plate_x\",\"plate_z\",\"vx0\",\"vy0\",\"vz0\"]]\n",
    "    #df = reduceData(df)\n",
    "    outcomes = df.apply(classifyOutcome, axis=1)\n",
    "    df[\"Outcome\"] = outcomes\n",
    "    df = df.drop([\"events\", \"description\"], axis=1)\n",
    "    df = df.dropna()\n",
    "    \n",
    "    return df\n",
    "\n",
    "dataFeatures = np.array([\"release_speed\",\"release_spin_rate\",\"pfx_x\",\"pfx_z\",\"plate_x\",\"plate_z\",\"vx0\",\"vy0\",\"vz0\"])"
   ]
  },
  {
   "cell_type": "code",
   "execution_count": 3,
   "metadata": {},
   "outputs": [],
   "source": [
    "def getCountData(df, count):\n",
    "    return df[(df.balls == count[0]) & (df.strikes == count[1])]"
   ]
  },
  {
   "cell_type": "code",
   "execution_count": 4,
   "metadata": {},
   "outputs": [],
   "source": [
    "def trainModel(pitchData):\n",
    "\n",
    "    X = pitchData[dataFeatures].values\n",
    "    y = pitchData[\"Outcome\"].values\n",
    "\n",
    "    #X_train, X_test, y_train, y_test = model_selection.train_test_split(X, y, test_size= 0.2, random_state = 1)\n",
    "\n",
    "    lm = linear_model.LogisticRegression(multi_class='ovr', solver='liblinear')\n",
    "    return lm.fit(X, y)"
   ]
  },
  {
   "cell_type": "code",
   "execution_count": 5,
   "metadata": {},
   "outputs": [],
   "source": [
    "def predictOutcomes(pitch, df):\n",
    "    lm = batterModel\n",
    "    pred = pd.DataFrame()\n",
    "    \n",
    "    pred.index = lm.classes_\n",
    "\n",
    "    xProbs = np.round(lm.predict_proba(np.array(df.loc[pitch].drop(\"Freq\")).reshape(1, -1)), 3)\n",
    "\n",
    "    pred[pitch] = xProbs.transpose()\n",
    "\n",
    "    return pred.transpose()"
   ]
  },
  {
   "cell_type": "code",
   "execution_count": 6,
   "metadata": {},
   "outputs": [],
   "source": [
    "def countProbabilities(count):\n",
    "    countData = getCountData(pitcherData, count)\n",
    "\n",
    "    pitchStats = countData.groupby(\"pitch_type\").mean()\n",
    "    pitchStats = pitchStats[dataFeatures]\n",
    "\n",
    "    pitchStats[\"Freq\"] = countData[\"pitch_type\"].value_counts()\n",
    "    pitchStats[\"Freq\"] = pitchStats[\"Freq\"]/pitchStats[\"Freq\"].sum()\n",
    "\n",
    "    countOutcomes = pd.DataFrame([],columns=['1B', '2B', 'B', 'F', 'FO', 'HBP', 'HR', 'K'])\n",
    "\n",
    "    for p in pitchStats.index:\n",
    "        countOutcomes = pd.concat([countOutcomes, predictOutcomes(p, pitchStats)], axis=0)\n",
    "\n",
    "    countOutcomes = pd.concat([countOutcomes, pitchStats[\"Freq\"]], axis=1).fillna(0)\n",
    "\n",
    "    return countOutcomes"
   ]
  },
  {
   "cell_type": "code",
   "execution_count": 7,
   "metadata": {},
   "outputs": [],
   "source": [
    "def markovMatrix():\n",
    "    vectorsA = [\n",
    "        [(0,0), {1: [\"B\"], 4: [\"K\",\"F\"], 13: [\"HBP\"], 14: [\"1B\"], 15: [\"2B\"], 16: [\"HR\"], 17: [\"FO\"]}],   #0\n",
    "        [(1,0), {2: [\"B\"], 5: [\"K\",\"F\"], 13: [\"HBP\"], 14: [\"1B\"], 15: [\"2B\"], 16: [\"HR\"], 17: [\"FO\"]}],   #1\n",
    "        [(2,0), {3: [\"B\"], 6: [\"K\",\"F\"], 13: [\"HBP\"], 14: [\"1B\"], 15: [\"2B\"], 16: [\"HR\"], 17: [\"FO\"]}],   #2\n",
    "        [(3,0), {7: [\"K\",\"F\"], 12: [\"B\"], 13: [\"HBP\"], 14: [\"1B\"], 15: [\"2B\"], 16: [\"HR\"], 17: [\"FO\"]}],  #3\n",
    "        [(0,1), {5: [\"B\"], 8: [\"K\",\"F\"], 13: [\"HBP\"], 14: [\"1B\"], 15: [\"2B\"], 16: [\"HR\"], 17: [\"FO\"]}],   #4\n",
    "        [(1,1), {6: [\"B\"], 9: [\"K\",\"F\"], 13: [\"HBP\"], 14: [\"1B\"], 15: [\"2B\"], 16: [\"HR\"], 17: [\"FO\"]}],   #5\n",
    "        [(2,1), {7: [\"B\"], 10: [\"K\",\"F\"], 13: [\"HBP\"], 14: [\"1B\"], 15: [\"2B\"], 16: [\"HR\"], 17: [\"FO\"]}],  #6\n",
    "        [(3,1), {11: [\"K\",\"F\"], 12: [\"B\"], 13: [\"HBP\"], 14: [\"1B\"], 15: [\"2B\"], 16: [\"HR\"], 17: [\"FO\"]}], #7\n",
    "        [(0,2), {8: [\"F\"], 9: [\"B\"], 13: [\"HBP\"], 14: [\"1B\"], 15: [\"2B\"], 16: [\"HR\"], 17: [\"FO\",\"K\"]}],   #8\n",
    "        [(1,2), {9: [\"F\"], 10: [\"B\"], 13: [\"HBP\"], 14: [\"1B\"], 15: [\"2B\"], 16: [\"HR\"], 17: [\"FO\",\"K\"]}],  #9\n",
    "        [(2,2), {10: [\"F\"], 11: [\"B\"], 13: [\"HBP\"], 14: [\"1B\"], 15: [\"2B\"], 16: [\"HR\"], 17: [\"FO\",\"K\"]}], #10\n",
    "        [(3,2), {11: [\"F\"], 12: [\"B\"], 13: [\"HBP\"], 14: [\"1B\"], 15: [\"2B\"], 16: [\"HR\"], 17: [\"FO\",\"K\"]}]  #11\n",
    "    ]\n",
    "\n",
    "    matrixA = np.zeros((18,18), dtype=np.float64)\n",
    "\n",
    "    matrixA[12,12] = 1\n",
    "    matrixA[13,13] = 1\n",
    "    matrixA[14,14] = 1\n",
    "    matrixA[15,15] = 1\n",
    "    matrixA[16,16] = 1\n",
    "    matrixA[17,17] = 1\n",
    "\n",
    "    outcomeTypes = pd.Series(['1B', '2B', 'B', 'F', 'FO', 'HBP', 'HR', 'K'])\n",
    "\n",
    "    for i in range(len(vectorsA)):\n",
    "        count, code = vectorsA[i]\n",
    "        vector = np.zeros(18)\n",
    "\n",
    "        outcomeMatrix = countProbabilities(count)\n",
    "        outcomeMatrix = outcomeMatrix.multiply(outcomeMatrix[\"Freq\"], axis=0).drop(\"Freq\", axis=1)\n",
    "\n",
    "        outcomes = np.round(outcomeMatrix.sum(), decimals=3)\n",
    "\n",
    "        for j in code:\n",
    "            vector[j] = sum(outcomes[code.get(j)])\n",
    "\n",
    "        matrixA[i] = vector\n",
    "\n",
    "    return matrixA.transpose()"
   ]
  },
  {
   "cell_type": "code",
   "execution_count": 8,
   "metadata": {},
   "outputs": [],
   "source": [
    "def simulateAtBat(pitcherID, batterID, power=100, verbose = False, saveRaws = False): \n",
    "    #pitcherID = pyb.playerid_lookup(pitcherName[0], pitcherName[1])\n",
    "    #batterID = pyb.playerid_lookup(batterName[0], batterName[1])\n",
    "\n",
    "    global pitcherData\n",
    "    global batterData\n",
    "\n",
    "    pitcherData = pyb.statcast_pitcher(start_dt=\"2021-01-01\", end_dt=\"2021-10-03\", player_id = pitcherID)\n",
    "    if verbose:\n",
    "        print(\"Pitcher:\", pitcherData[\"player_name\"].mode()[0])\n",
    "        print(\"Found\", pitcherData.shape[0], \"observations.\\n\")\n",
    "\n",
    "    batterData = pyb.statcast_batter(start_dt=\"2021-01-01\", end_dt=\"2021-10-03\", player_id = batterID)\n",
    "    if verbose:\n",
    "        print(\"Batter:\", batterData[\"player_name\"].mode()[0])\n",
    "        print(\"Found\", batterData.shape[0], \"observations.\\n\")\n",
    "\n",
    "    if saveRaws:\n",
    "        global pitcherDataRaw\n",
    "        global batterDataRaw\n",
    "        pitcherDataRaw = pitcherData\n",
    "        batterDataRaw = batterData\n",
    "\n",
    "    pitcherData = processData(pitcherData)\n",
    "    batterData = processData(batterData)\n",
    "    \n",
    "    global batterModel\n",
    "    batterModel = trainModel(batterData)\n",
    "\n",
    "    if verbose:\n",
    "        print(\"Generating Markov matrix.\")\n",
    "    global matrix\n",
    "    matrix = markovMatrix()\n",
    "    \n",
    "    startVector = np.zeros(18, dtype=float)\n",
    "    startVector[0] = 1\n",
    "\n",
    "    if verbose:\n",
    "        print(\"Start Vector:\\n\", startVector, \"\\n\")\n",
    "\n",
    "    outVector = np.matmul(startVector, np.linalg.matrix_power(matrix.transpose(), power))\n",
    "    \n",
    "    if verbose:\n",
    "        print(\"End vector:\", np.round(outVector, 3), \"\\n\")\n",
    "\n",
    "    return outVector"
   ]
  },
  {
   "cell_type": "code",
   "execution_count": 9,
   "metadata": {},
   "outputs": [],
   "source": [
    "def outcomeStats(pitcherName, batterName, inVector = np.zeros((18))):      \n",
    "    stats = pd.Series([(pitcherName.upper()), (batterName.upper())], index = [\"Pitcher\", \"Batter\"])\n",
    "    statsVector = pd.Series(np.round(inVector[12:18], 3), index = [\"pWalk\", \"pHBP\", \"p1B\", \"p2B\", \"pHR\", \"pOut\"])\n",
    "\n",
    "    stats = stats.append(statsVector)\n",
    "\n",
    "    stats[\"AVG\"] = np.round(sum(stats[[\"p1B\", \"p2B\", \"pHR\"]]), 3)\n",
    "\n",
    "    stats[\"OBP\"] = np.round((1 - statsVector[\"pOut\"]), 3)\n",
    "\n",
    "    stats[\"SLG\"] = np.round(stats[\"p1B\"] + 2*stats[\"p2B\"] + 4*stats[\"pHR\"], 3)\n",
    "    \n",
    "    stats[\"OPS\"] = np.round(sum(stats[[\"OBP\", \"SLG\"]]), 3)\n",
    "\n",
    "    wOBAWeights = np.array([0.69, 0.72, 0.89, 1.27, 2.1])\n",
    "    stats[\"wOBA\"] = np.round(np.dot(wOBAWeights, inVector[12:17]), 3)\n",
    "\n",
    "    #rawData = rawData.append(pd.Series(inVector[12:18]))\n",
    "\n",
    "    #stats = pd.Series(data = rawData)#, index = [\"Pitcher\", \"Batter\", \"pWalk\", \"pHBP\", \"p1B\", \"p2B\", \"pHR\", \"pOut\"])\n",
    "\n",
    "    #stats.reindex([\"Pitcher\", \"Batter\", \"pWalk\", \"pHBP\", \"p1B\", \"p2B\", \"pHR\", \"pOut\"])\n",
    "\n",
    "    #row = \n",
    "\n",
    "    #pd.append()\n",
    "\n",
    "    return stats.transpose()"
   ]
  },
  {
   "cell_type": "code",
   "execution_count": 10,
   "metadata": {},
   "outputs": [],
   "source": [
    "stats = pd.DataFrame()"
   ]
  },
  {
   "cell_type": "code",
   "execution_count": 11,
   "metadata": {},
   "outputs": [
    {
     "name": "stdout",
     "output_type": "stream",
     "text": [
      "Gathering Player Data\n",
      "Pitcher: Heaney, Andrew\n",
      "Found 2330 observations.\n",
      "\n",
      "Gathering Player Data\n",
      "Batter: Choi, Ji-Man\n",
      "Found 1279 observations.\n",
      "\n",
      "Generating Markov matrix.\n",
      "Start Vector:\n",
      " [1. 0. 0. 0. 0. 0. 0. 0. 0. 0. 0. 0. 0. 0. 0. 0. 0. 0.] \n",
      "\n",
      "End vector: [0.    0.    0.    0.    0.    0.    0.    0.    0.    0.    0.    0.\n",
      " 0.076 0.004 0.126 0.116 0.    0.678] \n",
      "\n",
      "Calculated statistics:\n",
      "         Pitcher       Batter  pWalk   pHBP    p1B    p2B  pHR   pOut    AVG  \\\n",
      "0  ANDREW HEANEY  JI-MAN CHOI  0.076  0.004  0.126  0.116  0.0  0.678  0.242   \n",
      "\n",
      "     OBP    SLG   OPS   wOBA  \n",
      "0  0.322  0.358  0.68  0.315  \n"
     ]
    },
    {
     "name": "stderr",
     "output_type": "stream",
     "text": [
      "D:\\Users\\Luke\\AppData\\Local\\Programs\\Python\\Python39\\lib\\site-packages\\numpy\\lib\\arraysetops.py:608: FutureWarning: elementwise comparison failed; returning scalar instead, but in the future will perform elementwise comparison\n",
      "  mask |= (ar1 == a)\n"
     ]
    }
   ],
   "source": [
    "pitcherName = [\"andrew\", \"heaney\"]\n",
    "batterName = [\"ji-man\", \"choi\"]\n",
    "\n",
    "pitcherID = pyb.playerid_lookup(pitcherName[1], pitcherName[0])[\"key_mlbam\"][0]\n",
    "batterID = pyb.playerid_lookup(batterName[1], batterName[0])[\"key_mlbam\"][0]\n",
    "\n",
    "atBatOutcome = simulateAtBat(pitcherID, batterID, verbose=True)\n",
    "\n",
    "print(\"Calculated statistics:\")\n",
    "\n",
    "statsOutput = pd.DataFrame(outcomeStats(\" \".join(pitcherName), \" \".join(batterName), atBatOutcome)).transpose()\n",
    "stats = stats.append(statsOutput, ignore_index=True)\n",
    "\n",
    "print(statsOutput)\n"
   ]
  },
  {
   "cell_type": "code",
   "execution_count": 12,
   "metadata": {},
   "outputs": [
    {
     "name": "stdout",
     "output_type": "stream",
     "text": [
      "0\n",
      "Gathering Player Data\n",
      "Gathering Player Data\n",
      "            Pitcher         Batter pWalk pHBP    p1B    p2B    pHR   pOut  \\\n",
      "0  TRISTON MCKENZIE  J.D. MARTINEZ  0.08  0.0  0.128  0.059  0.056  0.678   \n",
      "\n",
      "     AVG    OBP   SLG    OPS   wOBA  \n",
      "0  0.243  0.322  0.47  0.792  0.361  \n",
      "1\n",
      "Gathering Player Data\n",
      "Gathering Player Data\n",
      "         Pitcher       Batter  pWalk   pHBP    p1B    p2B   pHR   pOut    AVG  \\\n",
      "0  MERRILL KELLY  KYLE FARMER  0.046  0.002  0.156  0.035  0.02  0.742  0.211   \n",
      "\n",
      "     OBP    SLG    OPS   wOBA  \n",
      "0  0.258  0.306  0.564  0.259  \n",
      "2\n",
      "Gathering Player Data\n",
      "Gathering Player Data\n",
      "          Pitcher          Batter pWalk pHBP    p1B    p2B    pHR   pOut  \\\n",
      "0  CHARLIE MORTON  GLEYBER TORRES  0.11  0.0  0.162  0.033  0.006  0.687   \n",
      "\n",
      "     AVG    OBP    SLG    OPS   wOBA  \n",
      "0  0.201  0.313  0.252  0.565  0.275  \n",
      "3\n",
      "Gathering Player Data\n",
      "Gathering Player Data\n",
      "       Pitcher             Batter  pWalk   pHBP    p1B    p2B    pHR   pOut  \\\n",
      "0  BAILEY OBER  JAZZ CHISHOLM JR.  0.053  0.001  0.126  0.038  0.045  0.736   \n",
      "\n",
      "     AVG    OBP    SLG    OPS   wOBA  \n",
      "0  0.209  0.264  0.382  0.646  0.293  \n",
      "4\n",
      "Gathering Player Data\n",
      "Gathering Player Data\n"
     ]
    },
    {
     "name": "stderr",
     "output_type": "stream",
     "text": [
      "D:\\Users\\Luke\\AppData\\Local\\Programs\\Python\\Python39\\lib\\site-packages\\numpy\\lib\\arraysetops.py:608: FutureWarning: elementwise comparison failed; returning scalar instead, but in the future will perform elementwise comparison\n",
      "  mask |= (ar1 == a)\n"
     ]
    },
    {
     "name": "stdout",
     "output_type": "stream",
     "text": [
      "              Pitcher         Batter  pWalk pHBP    p1B    p2B    pHR   pOut  \\\n",
      "0  ANTHONY DESCLAFANI  NOLAN ARENADO  0.073  0.0  0.105  0.056  0.041  0.725   \n",
      "\n",
      "     AVG    OBP    SLG    OPS   wOBA  \n",
      "0  0.202  0.275  0.381  0.656  0.302  \n",
      "5\n",
      "Gathering Player Data\n",
      "Gathering Player Data\n",
      "     Pitcher       Batter  pWalk   pHBP    p1B    p2B    pHR   pOut    AVG  \\\n",
      "0  RICH HILL  MIGUEL SANO  0.186  0.004  0.094  0.039  0.046  0.632  0.179   \n",
      "\n",
      "     OBP    SLG    OPS   wOBA  \n",
      "0  0.368  0.356  0.724  0.362  \n",
      "6\n",
      "Gathering Player Data\n",
      "Gathering Player Data\n"
     ]
    },
    {
     "name": "stderr",
     "output_type": "stream",
     "text": [
      "D:\\Users\\Luke\\AppData\\Local\\Programs\\Python\\Python39\\lib\\site-packages\\numpy\\lib\\arraysetops.py:608: FutureWarning: elementwise comparison failed; returning scalar instead, but in the future will perform elementwise comparison\n",
      "  mask |= (ar1 == a)\n"
     ]
    },
    {
     "name": "stdout",
     "output_type": "stream",
     "text": [
      "          Pitcher        Batter  pWalk   pHBP    p1B    p2B    pHR   pOut  \\\n",
      "0  DOMINGO GERMAN  ALEX BREGMAN  0.121  0.003  0.132  0.032  0.027  0.684   \n",
      "\n",
      "     AVG    OBP    SLG   OPS   wOBA  \n",
      "0  0.191  0.316  0.304  0.62  0.301  \n",
      "7\n",
      "Gathering Player Data\n",
      "Gathering Player Data\n"
     ]
    },
    {
     "name": "stderr",
     "output_type": "stream",
     "text": [
      "D:\\Users\\Luke\\AppData\\Local\\Programs\\Python\\Python39\\lib\\site-packages\\numpy\\lib\\arraysetops.py:608: FutureWarning: elementwise comparison failed; returning scalar instead, but in the future will perform elementwise comparison\n",
      "  mask |= (ar1 == a)\n"
     ]
    },
    {
     "name": "stdout",
     "output_type": "stream",
     "text": [
      "            Pitcher           Batter  pWalk   pHBP    p1B   p2B    pHR pOut  \\\n",
      "0  CHI CHI GONZALEZ  FREDDIE FREEMAN  0.132  0.001  0.182  0.04  0.044  0.6   \n",
      "\n",
      "     AVG  OBP    SLG    OPS   wOBA  \n",
      "0  0.266  0.4  0.438  0.838  0.396  \n",
      "8\n",
      "Gathering Player Data\n",
      "Gathering Player Data\n",
      "       Pitcher       Batter  pWalk pHBP    p1B    p2B    pHR  pOut    AVG  \\\n",
      "0  JULIO URIAS  PETE ALONSO  0.147  0.0  0.085  0.031  0.056  0.68  0.172   \n",
      "\n",
      "    OBP    SLG    OPS   wOBA  \n",
      "0  0.32  0.371  0.691  0.334  \n",
      "9\n",
      "Gathering Player Data\n",
      "Gathering Player Data\n",
      "     Pitcher       Batter  pWalk pHBP    p1B    p2B  pHR   pOut    AVG    OBP  \\\n",
      "0  ALEX WOOD  MYLES STRAW  0.098  0.0  0.187  0.019  0.0  0.694  0.206  0.306   \n",
      "\n",
      "     SLG    OPS   wOBA  \n",
      "0  0.225  0.531  0.259  \n",
      "10\n",
      "Gathering Player Data\n",
      "Gathering Player Data\n"
     ]
    },
    {
     "name": "stderr",
     "output_type": "stream",
     "text": [
      "D:\\Users\\Luke\\AppData\\Local\\Programs\\Python\\Python39\\lib\\site-packages\\numpy\\lib\\arraysetops.py:608: FutureWarning: elementwise comparison failed; returning scalar instead, but in the future will perform elementwise comparison\n",
      "  mask |= (ar1 == a)\n"
     ]
    },
    {
     "name": "stdout",
     "output_type": "stream",
     "text": [
      "        Pitcher     Batter  pWalk   pHBP    p1B    p2B    pHR   pOut    AVG  \\\n",
      "0  JOE MUSGROVE  BEN GAMEL  0.103  0.005  0.079  0.058  0.036  0.717  0.173   \n",
      "\n",
      "     OBP    SLG    OPS   wOBA  \n",
      "0  0.283  0.339  0.622  0.295  \n",
      "11\n",
      "Gathering Player Data\n",
      "Gathering Player Data\n"
     ]
    },
    {
     "name": "stderr",
     "output_type": "stream",
     "text": [
      "D:\\Users\\Luke\\AppData\\Local\\Programs\\Python\\Python39\\lib\\site-packages\\numpy\\lib\\arraysetops.py:608: FutureWarning: elementwise comparison failed; returning scalar instead, but in the future will perform elementwise comparison\n",
      "  mask |= (ar1 == a)\n"
     ]
    },
    {
     "name": "stdout",
     "output_type": "stream",
     "text": [
      "        Pitcher            Batter  pWalk   pHBP    p1B    p2B    pHR  pOut  \\\n",
      "0  JAKE ARRIETA  BRANDON CRAWFORD  0.092  0.006  0.163  0.054  0.037  0.65   \n",
      "\n",
      "     AVG   OBP    SLG    OPS   wOBA  \n",
      "0  0.254  0.35  0.419  0.769  0.359  \n",
      "12\n",
      "Gathering Player Data\n",
      "Gathering Player Data\n",
      "          Pitcher         Batter  pWalk   pHBP    p1B    p2B    pHR   pOut  \\\n",
      "0  NABIL CRISMATT  RAFAEL DEVERS  0.079  0.006  0.113  0.092  0.098  0.611   \n",
      "\n",
      "     AVG    OBP    SLG    OPS   wOBA  \n",
      "0  0.303  0.389  0.689  1.078  0.482  \n",
      "13\n",
      "Gathering Player Data\n",
      "Gathering Player Data\n"
     ]
    }
   ],
   "source": [
    "k = 50\n",
    "\n",
    "qual_pitchers = pyb.pitching_stats(2021, qual=75).sample(k)\n",
    "\n",
    "qual_batters = pyb.batting_stats(2021, qual=400).sample(k)\n",
    "\n",
    "#stats = pd.DataFrame()\n",
    "try: stats\n",
    "except NameError: stats = pd.DataFrame()\n",
    "\n",
    "for i in range(k):\n",
    "    print(i)\n",
    "\n",
    "    pitcher = qual_pitchers.iloc[i]\n",
    "    batter = qual_batters.iloc[i]\n",
    "\n",
    "    pitcherID = pyb.playerid_reverse_lookup([pitcher[\"IDfg\"]], key_type=\"fangraphs\")[\"key_mlbam\"][0]\n",
    "    pitcherName = pitcher[\"Name\"].upper()\n",
    "\n",
    "    batterID = pyb.playerid_reverse_lookup([batter[\"IDfg\"]], key_type=\"fangraphs\")[\"key_mlbam\"][0]\n",
    "    batterName = batter[\"Name\"].upper()\n",
    "\n",
    "    # if stats[(stats[\"Pitcher\"] == pitcherName) & (stats[\"Batter\"] == batterName)].count() != 0:\n",
    "    #     print(pitcherName, \"vs\", batterName, \"already in the table, skipping.\")\n",
    "    #     continue\n",
    "    \n",
    "    output = simulateAtBat(pitcherID, batterID, verbose = False)\n",
    "    statsRow = pd.DataFrame(outcomeStats(pitcherName, batterName, output)).transpose()\n",
    "\n",
    "    stats = stats.append(statsRow, ignore_index=True)\n",
    "    print(statsRow)"
   ]
  }
 ],
 "metadata": {
  "interpreter": {
   "hash": "538429c450efbd77a8453df3f17531b9dae7ccc470ec6f77f47fd67844536548"
  },
  "kernelspec": {
   "display_name": "Python 3.9.7 64-bit",
   "language": "python",
   "name": "python3"
  },
  "language_info": {
   "codemirror_mode": {
    "name": "ipython",
    "version": 3
   },
   "file_extension": ".py",
   "mimetype": "text/x-python",
   "name": "python",
   "nbconvert_exporter": "python",
   "pygments_lexer": "ipython3",
   "version": "3.9.7"
  },
  "orig_nbformat": 4
 },
 "nbformat": 4,
 "nbformat_minor": 2
}
