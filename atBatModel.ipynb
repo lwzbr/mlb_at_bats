{
 "cells": [
  {
   "cell_type": "markdown",
   "metadata": {},
   "source": [
    "# atBatModel.ipynb\n",
    "\n",
    "This Jupyter notebook is meant as an example of how to use atBatModel.py. Required packages:\n",
    "* numpy\n",
    "* pandas\n",
    "* pybaseball\n",
    "* sklearn"
   ]
  },
  {
   "cell_type": "code",
   "execution_count": null,
   "metadata": {},
   "outputs": [],
   "source": [
    "import atBatModel as abm\n",
    "import numpy as np"
   ]
  },
  {
   "cell_type": "markdown",
   "metadata": {},
   "source": [
    "Initialize player classes using a name. The players' names and various IDs are saved as class variables."
   ]
  },
  {
   "cell_type": "code",
   "execution_count": null,
   "metadata": {},
   "outputs": [],
   "source": [
    "pitcher = abm.player(name=[\"Gerrit\", \"Cole\"])\n",
    "batter = abm.player(name=[\"Mike\", \"Trout\"])\n",
    "\n",
    "print(\"Player name: \", batter.playerName)\n",
    "print(batter.playerID)"
   ]
  },
  {
   "cell_type": "markdown",
   "metadata": {},
   "source": [
    "Download player Statcast data. Per pybaseball, it is represented as a Pandas dataFrame. It is returned as a function output and saved to the player object's namespace. By default, the date range is from today to January 1 of the previous year."
   ]
  },
  {
   "cell_type": "code",
   "execution_count": null,
   "metadata": {},
   "outputs": [],
   "source": [
    "pitcher.getStatcastData(playerType=\"pitcher\", verbose=True)\n",
    "batter.getStatcastData(playerType=\"batter\", verbose=True, dateRange=[\"2020-01-01\",\"2022-01-01\"])"
   ]
  },
  {
   "cell_type": "markdown",
   "metadata": {},
   "source": [
    "To construct the Markov model, we initialize an instance of the markovModel class using pitcher and batter classes as parameters. The construction of the Markov matrix and calculation of the logistic model takes place automatically. The sanitized data used to calculate the model is also saved in the object namespace."
   ]
  },
  {
   "cell_type": "code",
   "execution_count": null,
   "metadata": {},
   "outputs": [],
   "source": [
    "model = abm.markovModel(pitcher = pitcher, batter = batter)\n",
    "\n",
    "np.round(model.markovMatrix, 3)"
   ]
  },
  {
   "cell_type": "markdown",
   "metadata": {},
   "source": [
    "To obtain the raw outcome vector, we use the method simulatePitches. We may specify the starting count, as well as a number of iterations of the matrix equation x_{n+1} = Ax_n. Every iteration is like one pitch in an at-bat."
   ]
  },
  {
   "cell_type": "code",
   "execution_count": null,
   "metadata": {},
   "outputs": [],
   "source": [
    "outcomeVector = model.simulatePitches(100, (0,0))\n",
    "\n",
    "np.round(outcomeVector, 3)"
   ]
  },
  {
   "cell_type": "markdown",
   "metadata": {},
   "source": [
    "We may also compute stats using the method outcomeStats."
   ]
  },
  {
   "cell_type": "code",
   "execution_count": null,
   "metadata": {},
   "outputs": [],
   "source": [
    "model.outcomeStats()"
   ]
  }
 ],
 "metadata": {
  "interpreter": {
   "hash": "538429c450efbd77a8453df3f17531b9dae7ccc470ec6f77f47fd67844536548"
  },
  "kernelspec": {
   "display_name": "Python 3.9.7 64-bit",
   "language": "python",
   "name": "python3"
  },
  "language_info": {
   "codemirror_mode": {
    "name": "ipython",
    "version": 3
   },
   "file_extension": ".py",
   "mimetype": "text/x-python",
   "name": "python",
   "nbconvert_exporter": "python",
   "pygments_lexer": "ipython3",
   "version": "3.10.1"
  },
  "orig_nbformat": 4
 },
 "nbformat": 4,
 "nbformat_minor": 2
}
